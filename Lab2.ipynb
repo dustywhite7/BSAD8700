{
 "cells": [
  {
   "cell_type": "markdown",
   "metadata": {},
   "source": [
    "### First, we import necessary \"Libraries\" (chunks of code already written), and establish a connection to our database of ACS data"
   ]
  },
  {
   "cell_type": "code",
   "execution_count": 6,
   "metadata": {
    "collapsed": false
   },
   "outputs": [],
   "source": [
    "import sqlite3 as sq\n",
    "import numpy as np\n",
    "import pandas as pd\n",
    "\n",
    "conn = sq.connect(\"acs.db\")"
   ]
  },
  {
   "cell_type": "markdown",
   "metadata": {},
   "source": [
    "### Our database has the following variables and years for you to make use of:\n",
    "\n",
    "Variables: \n",
    "\n",
    "Years: 2001,2002,2003,2004,2005,2006,2007,2008,2009,2010,2011,2012,2013,2014"
   ]
  },
  {
   "cell_type": "markdown",
   "metadata": {},
   "source": [
    "### Next, we will store our SQLite query as a string, which can be used by Python to retrieve the result of the query afterward"
   ]
  },
  {
   "cell_type": "code",
   "execution_count": 7,
   "metadata": {
    "collapsed": true
   },
   "outputs": [],
   "source": [
    "query = \"SELECT * FROM acs WHERE year=2001 AND age<30 AND female=0\""
   ]
  },
  {
   "cell_type": "markdown",
   "metadata": {},
   "source": [
    "### We then tell Python to create a *Data Frame* (essentially a spreadsheet) named \"data\" from the results of our query, and using the database connection we have established\n",
    "\n",
    "When the process is complete, a segment of your data will be presented below for you to look at."
   ]
  },
  {
   "cell_type": "code",
   "execution_count": null,
   "metadata": {
    "collapsed": false
   },
   "outputs": [],
   "source": [
    "data = pd.read_sql(query, conn)\n",
    "\n",
    "data"
   ]
  }
 ],
 "metadata": {
  "kernelspec": {
   "display_name": "Python 3",
   "language": "python",
   "name": "python3"
  },
  "language_info": {
   "codemirror_mode": {
    "name": "ipython",
    "version": 3
   },
   "file_extension": ".py",
   "mimetype": "text/x-python",
   "name": "python",
   "nbconvert_exporter": "python",
   "pygments_lexer": "ipython3",
   "version": "3.5.1"
  }
 },
 "nbformat": 4,
 "nbformat_minor": 0
}
