{
 "cells": [
  {
   "cell_type": "markdown",
   "metadata": {},
   "source": [
    "### First, we import necessary \"Libraries\" (chunks of code already written), and establish a connection to our database of ACS data"
   ]
  },
  {
   "cell_type": "code",
   "execution_count": 4,
   "metadata": {
    "collapsed": false
   },
   "outputs": [],
   "source": [
    "import sqlite3 as sq\n",
    "import numpy as np\n",
    "import pandas as pd\n",
    "\n",
    "conn = sq.connect('/Users/Dusty/UnderemploymentNebraska/acs.db')"
   ]
  },
  {
   "cell_type": "markdown",
   "metadata": {},
   "source": [
    "### Our database has the following variables and years for you to make use of:\n",
    "\n",
    "**Variables**: index, year, datanum, serial, hhwt, cpi99, region, statefip, countyfips, city, puma, cpuma0010, gq, pernum, perwt, famsize, nchild, nchlt5, relate, related, sex, age, marst, fertyr, race, raced, hispan, hispand, citizen, school, educ, educd, empstat, empstatd, labforce, occ2010, ind1990, wkswork2, uhrswork, inctot, incwage, incbus00, diffrem, diffphys, diffmob, diffcare, diffsens, pwstate2, pwpuma00, tranwork, **wah**, **hsless**, **somecoll**, **colldegree**, **gradschool**, **student**, **yearbaby**, **married**, **female**, headhouse, **busowner**, **white**, **black**, **other**, **hispanic**, **pubemp**, weekswork, **totalhrs**, **hrwage**\n",
    "\n",
    "Information about the variables can be found at [IPUMS.org](https://usa.ipums.org/usa-action/variables/group). You can see what the variable describes, as well as what different values denote. Bolded variables were generated from other existing variables.\n",
    "\n",
    "**Years**: 2001-2014\n",
    "\n",
    "Each year is a 1% subsample of the US population collected by the Census Bureau"
   ]
  },
  {
   "cell_type": "markdown",
   "metadata": {},
   "source": [
    "### Next, we will store our SQLite query as a string, which can be used by Python to retrieve the result of the query afterward"
   ]
  },
  {
   "cell_type": "code",
   "execution_count": 5,
   "metadata": {
    "collapsed": true
   },
   "outputs": [],
   "source": [
    "query = \"SELECT * FROM acs WHERE year=2001 AND age<30 AND female=0\""
   ]
  },
  {
   "cell_type": "markdown",
   "metadata": {},
   "source": [
    "### We then tell Python to create a *Data Frame* (essentially a spreadsheet) named \"data\" from the results of our query, and using the database connection we have established\n",
    "\n",
    "When the process is complete, a segment of your data will be presented below for you to look at."
   ]
  },
  {
   "cell_type": "code",
   "execution_count": null,
   "metadata": {
    "collapsed": false
   },
   "outputs": [],
   "source": [
    "data = pd.read_sql(query, conn)\n",
    "\n",
    "data.head(n=10)"
   ]
  },
  {
   "cell_type": "markdown",
   "metadata": {},
   "source": [
    "### Once we have isolated the data that we care about, we can either record the query used for future data retrieval, or we can store the data in a simpler form, such as a CSV, for analysis in any other program"
   ]
  },
  {
   "cell_type": "code",
   "execution_count": null,
   "metadata": {
    "collapsed": true
   },
   "outputs": [],
   "source": [
    "data.to_csv(\"myData.csv\")"
   ]
  }
 ],
 "metadata": {
  "kernelspec": {
   "display_name": "Python 3",
   "language": "python",
   "name": "python3"
  },
  "language_info": {
   "codemirror_mode": {
    "name": "ipython",
    "version": 3
   },
   "file_extension": ".py",
   "mimetype": "text/x-python",
   "name": "python",
   "nbconvert_exporter": "python",
   "pygments_lexer": "ipython3",
   "version": "3.5.1"
  }
 },
 "nbformat": 4,
 "nbformat_minor": 0
}
